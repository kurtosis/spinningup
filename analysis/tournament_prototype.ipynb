{
 "cells": [
  {
   "cell_type": "markdown",
   "metadata": {},
   "source": [
    "# Dual Ultimatum Tournament Prototype"
   ]
  },
  {
   "cell_type": "code",
   "execution_count": 68,
   "metadata": {},
   "outputs": [],
   "source": [
    "import glob, os, sys\n",
    "import numpy as np\n",
    "import pandas as pd\n",
    "import plotnine as pn\n",
    "from random import sample\n",
    "DATA_DIR = '/Users/kurtsmith/research/spinningup/data'\n",
    "pd.options.display.max_columns=None"
   ]
  },
  {
   "cell_type": "code",
   "execution_count": 69,
   "metadata": {},
   "outputs": [],
   "source": [
    "from spinup.my_algos.ultimatum_agents import *\n",
    "from spinup.environments.dual_ultimatum_env import *"
   ]
  },
  {
   "cell_type": "code",
   "execution_count": 70,
   "metadata": {},
   "outputs": [],
   "source": [
    "def assign_match_pairs(num_agents):\n",
    "    \"\"\"Create random pairings for an even number of agents\"\"\"\n",
    "    assert num_agents % 2 == 0\n",
    "    shuffled = sample(range(num_agents), k=num_agents)\n",
    "    match_pairs = [shuffled[i:i+2] for i in range(0, num_agents, 2)]\n",
    "    return match_pairs"
   ]
  },
  {
   "cell_type": "code",
   "execution_count": 71,
   "metadata": {},
   "outputs": [],
   "source": [
    "# Initialize agents:\n",
    "agent_0 =ConstantBot(offer=0.5, threshold=1.0)\n",
    "agent_1 =ConstantBot(offer=0.6, threshold=0.)\n",
    "agent_2 =ConstantBot(offer=0.8, threshold=0.)\n",
    "agent_3 =ConstantBot(offer=0.2, threshold=0.)\n",
    "agent_list = [agent_0, agent_1, agent_2, agent_3]"
   ]
  },
  {
   "cell_type": "code",
   "execution_count": 72,
   "metadata": {},
   "outputs": [],
   "source": [
    "# Initialize agents:\n",
    "agent_0 =ConstantBot(offer=0.2, threshold=0.8)\n",
    "agent_1 = StaticDistribBot(\n",
    "    mean_offer=0.5, std_offer=0.1, mean_threshold=0.5, std_threshold=0.1\n",
    ")\n",
    "agent_2 = StaticDistribBot(\n",
    "    mean_offer=0.5, std_offer=1., mean_threshold=0.5, std_threshold=1.\n",
    ")\n",
    "agent_3 = StaticDistribBot(\n",
    "    mean_offer=0.5, std_offer=2., mean_threshold=0.5, std_threshold=2.\n",
    ")\n",
    "agent_list = [agent_0, agent_1, agent_2, agent_3]"
   ]
  },
  {
   "cell_type": "markdown",
   "metadata": {},
   "source": [
    "Main loop over rounds of tournament\n"
   ]
  },
  {
   "cell_type": "markdown",
   "metadata": {},
   "source": [
    "For each agent, input should be:\n",
    "\n",
    "- all actions from last turn of own match\n",
    "    - with own actions first \n",
    "- current overall scores for all agents (can use same order for all agents)\n",
    "- ?score of current opponent\n",
    "- number of rounds left in tournament\n",
    "- ?number of turns left in current round - omit for now, treat as random length game"
   ]
  },
  {
   "cell_type": "code",
   "execution_count": 76,
   "metadata": {},
   "outputs": [],
   "source": [
    "num_agents = len(agent_list)"
   ]
  },
  {
   "cell_type": "code",
   "execution_count": 78,
   "metadata": {},
   "outputs": [],
   "source": [
    "obs_dim = 4 + num_agents + 1 + 1\n",
    "\n",
    "all_obs = np.zeros((num_agents, obs_dim))\n",
    "all_obs_next = np.zeros((num_agents, obs_dim))\n",
    "# Observations are:\n",
    "# 4 (match obs)\n",
    "# num_agents (scores)\n",
    "# 1 opponent score\n",
    "# 1 rounds left\n",
    "# ? should we add more for rankings/thresholds?\n",
    "# opponent id, OHE??? useful when we add bots, or other differences?"
   ]
  },
  {
   "cell_type": "code",
   "execution_count": 80,
   "metadata": {},
   "outputs": [
    {
     "data": {
      "text/plain": [
       "[array([0.5, 0.5, 0.5, 0.5]), array([0.5, 0.5, 0.5, 0.5])]"
      ]
     },
     "execution_count": 80,
     "metadata": {},
     "output_type": "execute_result"
    }
   ],
   "source": [
    "env_obs_list"
   ]
  },
  {
   "cell_type": "code",
   "execution_count": 81,
   "metadata": {},
   "outputs": [
    {
     "data": {
      "text/plain": [
       "array([-1.91573671, -0.63396282,  0.02982265, -0.59531569])"
      ]
     },
     "execution_count": 81,
     "metadata": {},
     "output_type": "execute_result"
    }
   ],
   "source": [
    "np.random.randn(4)"
   ]
  },
  {
   "cell_type": "code",
   "execution_count": 79,
   "metadata": {},
   "outputs": [
    {
     "name": "stdout",
     "output_type": "stream",
     "text": [
      "match_pairs [[1, 3], [2, 0]]\n",
      "scores [6.93168245 3.30347399 5.13337888 2.63146467]\n"
     ]
    },
    {
     "name": "stderr",
     "output_type": "stream",
     "text": [
      "/Users/kurtsmith/miniconda3/envs/spinningup/lib/python3.6/site-packages/gym/logger.py:30: UserWarning: \u001b[33mWARN: Box bound precision lowered by casting to float32\u001b[0m\n"
     ]
    }
   ],
   "source": [
    "num_rounds = 10\n",
    "round_length = 2\n",
    "score_list = np.zeros(len(agent_list))\n",
    "for i_round in reversed(range(num_rounds)):\n",
    "    \n",
    "    # Initialize match info and environments\n",
    "    match_pairs = assign_match_pairs(4)\n",
    "    match_env_list = [DualUltimatum(), DualUltimatum()]\n",
    "    agent_opponent_dict = dict()\n",
    "    agent_match_dict = dict()\n",
    "    for i, m in enumerate(match_pairs):\n",
    "        agent_opponent_dict[m[0]] = m[1]\n",
    "        agent_opponent_dict[m[1]] = m[0]\n",
    "        agent_match_dict[m[0]] = i\n",
    "        agent_match_dict[m[1]] = i\n",
    "    \n",
    "    # Generate initial obs for each match\n",
    "    env_obs_list = [env.reset() for env in match_env_list]\n",
    "    ag_obs_list = [env_obs_list[agent_match_dict[ag]] for ag in range(len(agent_list))]\n",
    "    ag_obs_next_list = ag_obs_list\n",
    "\n",
    "    # Loop through single round\n",
    "    for _ in range(round_length):\n",
    "        \n",
    "        # Get each agent's actions\n",
    "        agent_acts = [ag.act(o) for ag, o in zip(agent_list, ag_obs_list)]\n",
    "\n",
    "        # Rearrange actions to as input for each match environment\n",
    "        match_acts = [\n",
    "            np.array([agent_acts[i] for i in match])\n",
    "            for match in match_pairs]\n",
    "\n",
    "        # Pass actions to each match env, get next obs/reward\n",
    "        match_outputs = [match_env.step(acts) for acts, match_env in zip(match_acts, match_env_list)]\n",
    "\n",
    "        # Update scores based on env steps\n",
    "        for pair, output in zip(match_pairs, match_outputs):\n",
    "            o, r, d, _ = output\n",
    "            score_list[pair] += r\n",
    "            ag_obs_next_list[pair[0]] = o\n",
    "            ag_obs_next_list[pair[1]] = np.roll(o, 2)\n",
    "#             for ag, r_ag in zip(agent_pair, r):\n",
    "#                 ag_obs_next_list[ag] = o\n",
    "#                 score_list[ag] += r_ag\n",
    "\n",
    "        ag_obs_list = ag_obs_next_list\n",
    "print(f'match_pairs {match_pairs}')\n",
    "print(f'scores {score_list}') "
   ]
  },
  {
   "cell_type": "code",
   "execution_count": 61,
   "metadata": {},
   "outputs": [
    {
     "name": "stdout",
     "output_type": "stream",
     "text": [
      "[1.66841718 3.46834713 1.97518487 2.88805082]\n",
      "[3, 2]\n"
     ]
    }
   ],
   "source": [
    "print(score_list)\n",
    "print(agent_pair)"
   ]
  },
  {
   "cell_type": "code",
   "execution_count": 64,
   "metadata": {},
   "outputs": [],
   "source": [
    "score_list[agent_pair] += r"
   ]
  },
  {
   "cell_type": "code",
   "execution_count": 66,
   "metadata": {},
   "outputs": [
    {
     "name": "stdout",
     "output_type": "stream",
     "text": [
      "[0.99510422 0.8171934  0.11001134 0.04352573]\n",
      "[0.11001134 0.04352573 0.99510422 0.8171934 ]\n"
     ]
    }
   ],
   "source": [
    "print(o)\n",
    "print(np.roll(o,2))"
   ]
  },
  {
   "cell_type": "markdown",
   "metadata": {},
   "source": [
    "Data shapes:\n",
    "\n",
    "- na = # of agents\n",
    "- nm = # of match_pairs (= na/2)\n",
    "- nobs = length of obs vector\n",
    "- 2 = action space for single agent\n",
    "\n",
    "agent_acts - (na, 2)\n",
    "match_acts - (nm, (2,2))\n",
    "match_env_list - (nm) (env for each match)\n",
    "match_output - (nm)\n",
    "ag_obs_list - (na, nobs)\n",
    "ag_obs_next_list - same"
   ]
  },
  {
   "cell_type": "code",
   "execution_count": 36,
   "metadata": {},
   "outputs": [],
   "source": [
    "# to do: check if own score is first\n",
    "# Add global scores to obs\n",
    "ff = [np.concatenate((o, score_list)) for o in ag_obs_next_list]\n",
    "# Add current round to obs\n",
    "ff = [np.append(x, i_round) for x in ff]\n",
    "# Add opponent's score\n",
    "for i in range(len(ff)):\n",
    "    ff[i] = np.append(ff[i], score_list[agent_opponent_dict[i]])"
   ]
  },
  {
   "cell_type": "code",
   "execution_count": 54,
   "metadata": {},
   "outputs": [
    {
     "data": {
      "text/plain": [
       "[(array([0.89298033, 0.56163017, 0.5513665 , 0.46566673]),\n",
       "  array([0, 0]),\n",
       "  False,\n",
       "  {}),\n",
       " (array([0.2       , 0.8       , 0.87506763, 0.96054561]),\n",
       "  array([0, 0]),\n",
       "  False,\n",
       "  {})]"
      ]
     },
     "execution_count": 54,
     "metadata": {},
     "output_type": "execute_result"
    }
   ],
   "source": [
    "match_output"
   ]
  },
  {
   "cell_type": "code",
   "execution_count": 46,
   "metadata": {},
   "outputs": [
    {
     "data": {
      "text/plain": [
       "[array([0.2       , 0.8       , 0.87506763, 0.96054561, 1.79109891,\n",
       "        6.54152624, 0.94673824, 2.72063661, 0.        ]),\n",
       " array([0.89298033, 0.56163017, 0.5513665 , 0.46566673, 1.79109891,\n",
       "        6.54152624, 0.94673824, 2.72063661, 0.        ]),\n",
       " array([0.89298033, 0.56163017, 0.5513665 , 0.46566673, 1.79109891,\n",
       "        6.54152624, 0.94673824, 2.72063661, 0.        ]),\n",
       " array([0.2       , 0.8       , 0.87506763, 0.96054561, 1.79109891,\n",
       "        6.54152624, 0.94673824, 2.72063661, 0.        ])]"
      ]
     },
     "execution_count": 46,
     "metadata": {},
     "output_type": "execute_result"
    }
   ],
   "source": [
    "ff"
   ]
  },
  {
   "cell_type": "code",
   "execution_count": 52,
   "metadata": {},
   "outputs": [],
   "source": [
    "\n"
   ]
  },
  {
   "cell_type": "code",
   "execution_count": 53,
   "metadata": {},
   "outputs": [
    {
     "data": {
      "text/plain": [
       "[array([0.2       , 0.8       , 0.87506763, 0.96054561, 1.79109891,\n",
       "        6.54152624, 0.94673824, 2.72063661, 0.        , 2.72063661,\n",
       "        2.72063661]),\n",
       " array([0.89298033, 0.56163017, 0.5513665 , 0.46566673, 1.79109891,\n",
       "        6.54152624, 0.94673824, 2.72063661, 0.        , 0.94673824,\n",
       "        0.94673824]),\n",
       " array([0.89298033, 0.56163017, 0.5513665 , 0.46566673, 1.79109891,\n",
       "        6.54152624, 0.94673824, 2.72063661, 0.        , 6.54152624,\n",
       "        6.54152624]),\n",
       " array([0.2       , 0.8       , 0.87506763, 0.96054561, 1.79109891,\n",
       "        6.54152624, 0.94673824, 2.72063661, 0.        , 1.79109891,\n",
       "        1.79109891])]"
      ]
     },
     "execution_count": 53,
     "metadata": {},
     "output_type": "execute_result"
    }
   ],
   "source": [
    "ff"
   ]
  },
  {
   "cell_type": "code",
   "execution_count": 37,
   "metadata": {},
   "outputs": [
    {
     "data": {
      "text/plain": [
       "[array([0.2       , 0.8       , 0.87506763, 0.96054561, 1.79109891,\n",
       "        6.54152624, 0.94673824, 2.72063661, 0.        ]),\n",
       " array([0.89298033, 0.56163017, 0.5513665 , 0.46566673, 1.79109891,\n",
       "        6.54152624, 0.94673824, 2.72063661, 0.        ]),\n",
       " array([0.89298033, 0.56163017, 0.5513665 , 0.46566673, 1.79109891,\n",
       "        6.54152624, 0.94673824, 2.72063661, 0.        ]),\n",
       " array([0.2       , 0.8       , 0.87506763, 0.96054561, 1.79109891,\n",
       "        6.54152624, 0.94673824, 2.72063661, 0.        ])]"
      ]
     },
     "execution_count": 37,
     "metadata": {},
     "output_type": "execute_result"
    }
   ],
   "source": [
    "ff"
   ]
  },
  {
   "cell_type": "code",
   "execution_count": 35,
   "metadata": {},
   "outputs": [
    {
     "data": {
      "text/plain": [
       "array([0.2       , 0.8       , 0.67611784, 0.98342819, 5.11873359,\n",
       "       3.8930339 , 4.88775456, 2.10047795, 4.        ])"
      ]
     },
     "execution_count": 35,
     "metadata": {},
     "output_type": "execute_result"
    }
   ],
   "source": [
    "np.append(ff[0], 4)"
   ]
  },
  {
   "cell_type": "code",
   "execution_count": 17,
   "metadata": {},
   "outputs": [
    {
     "data": {
      "text/plain": [
       "array([0.2       , 0.8       , 0.67611784, 0.98342819])"
      ]
     },
     "execution_count": 17,
     "metadata": {},
     "output_type": "execute_result"
    }
   ],
   "source": [
    "ag_obs_next_list[0]"
   ]
  },
  {
   "cell_type": "code",
   "execution_count": 13,
   "metadata": {},
   "outputs": [
    {
     "data": {
      "text/plain": [
       "array([5.11873359, 3.8930339 , 4.88775456, 2.10047795])"
      ]
     },
     "execution_count": 13,
     "metadata": {},
     "output_type": "execute_result"
    }
   ],
   "source": [
    "score_list"
   ]
  },
  {
   "cell_type": "code",
   "execution_count": 185,
   "metadata": {},
   "outputs": [
    {
     "name": "stdout",
     "output_type": "stream",
     "text": [
      "matches [[0, 3], [2, 1]]\n",
      "scores [0.         4.92670313 2.16138606 2.91191081]\n"
     ]
    }
   ],
   "source": [
    "num_rounds = 10\n",
    "round_length = 2\n",
    "score_list = np.zeros(len(agent_list))\n",
    "for round in range(num_rounds):\n",
    "    match_pairs = assign_match_pairs(4)\n",
    "    env_list = [DualUltimatum(), DualUltimatum()]\n",
    "    agent_opponent_dict = dict()\n",
    "    agent_match_dict = dict()\n",
    "    for i, m in enumerate(match_pairs):\n",
    "        agent_opponent_dict[m[0]] = m[1]\n",
    "        agent_opponent_dict[m[1]] = m[0]\n",
    "        agent_match_dict[m[0]] = i\n",
    "        agent_match_dict[m[1]] = i\n",
    "    \n",
    "    # Generate initial obs for each match\n",
    "    env_obs_list = [env.reset() for env in env_list]\n",
    "    ag_obs_list = [env_obs_list[agent_match_dict[ag]] for ag in range(len(agent_list))]\n",
    "    ag_obs_next_list = ag_obs_list\n",
    "\n",
    "    for _ in range(round_length):\n",
    "        # Get each agent's actions\n",
    "        agent_acts = [ag.act(o) for ag, o in zip(agent_list, ag_obs_list)]\n",
    "\n",
    "        # Rearrange actions to each match\n",
    "        match_acts = [\n",
    "            np.array([agent_acts[i] for i in match])\n",
    "            for match in match_pairs]\n",
    "\n",
    "        # Pass actions to each match env\n",
    "        match_output = [env.step(acts) for acts, env in zip(match_acts, env_list)]\n",
    "\n",
    "        # Update scores based on env steps\n",
    "        for agents, output, obs_next in zip(match_pairs, match_output, obs_next_list):\n",
    "            o, r, d, _ = output\n",
    "            for ag, r_ag in zip(agents, r):\n",
    "                ag_obs_next_list[ag] = o\n",
    "                score_list[ag] += r_ag\n",
    "\n",
    "        ag_obs_list = ag_obs_next_list\n",
    "print(f'match_pairs {match_pairs}')\n",
    "print(f'scores {score_list}') "
   ]
  },
  {
   "cell_type": "code",
   "execution_count": 186,
   "metadata": {},
   "outputs": [
    {
     "name": "stdout",
     "output_type": "stream",
     "text": [
      "[2.00000000e-01 8.00000000e-01 7.18261354e-04 6.68076748e-01]\n",
      "[7.18261354e-04 6.68076748e-01 2.00000000e-01 8.00000000e-01]\n"
     ]
    }
   ],
   "source": [
    "# create obs for each agent\n",
    "print(match_output[0][0])\n",
    "print(np.roll(match_output[0][0], 2))"
   ]
  },
  {
   "cell_type": "code",
   "execution_count": 187,
   "metadata": {},
   "outputs": [
    {
     "name": "stdout",
     "output_type": "stream",
     "text": [
      "[0, 3]\n",
      "[2.00000000e-01 8.00000000e-01 7.18261354e-04 6.68076748e-01]\n",
      "===\n",
      "[2, 1]\n",
      "[0.55248612 0.62624217 0.51905748 0.40240445]\n",
      "===\n"
     ]
    }
   ],
   "source": [
    "for m, e in zip(match_pairs, match_output):\n",
    "    print(m)\n",
    "    print(e[0])\n",
    "    print('===')\n",
    "    ag_obs_next_list[m[0]] = e[0]\n",
    "    ag_obs_next_list[m[1]] = np.roll(e[0],2)"
   ]
  },
  {
   "cell_type": "code",
   "execution_count": 188,
   "metadata": {},
   "outputs": [
    {
     "data": {
      "text/plain": [
       "[array([2.00000000e-01, 8.00000000e-01, 7.18261354e-04, 6.68076748e-01]),\n",
       " array([0.51905748, 0.40240445, 0.55248612, 0.62624217]),\n",
       " array([0.55248612, 0.62624217, 0.51905748, 0.40240445]),\n",
       " array([7.18261354e-04, 6.68076748e-01, 2.00000000e-01, 8.00000000e-01])]"
      ]
     },
     "execution_count": 188,
     "metadata": {},
     "output_type": "execute_result"
    }
   ],
   "source": [
    "ag_obs_next_list"
   ]
  },
  {
   "cell_type": "code",
   "execution_count": 88,
   "metadata": {},
   "outputs": [
    {
     "name": "stderr",
     "output_type": "stream",
     "text": [
      "/Users/kurtsmith/miniconda3/envs/spinningup/lib/python3.6/site-packages/gym/logger.py:30: UserWarning: \u001b[33mWARN: Box bound precision lowered by casting to float32\u001b[0m\n"
     ]
    }
   ],
   "source": [
    "# Initialize 1-on-1 match_pairs\n",
    "env_list = [DualUltimatum(), DualUltimatum()]\n",
    "match_pairs = [(0,1), (2,3)]\n",
    "agent_opponent_dict = dict()\n",
    "agent_match_dict = dict()"
   ]
  },
  {
   "cell_type": "code",
   "execution_count": 89,
   "metadata": {},
   "outputs": [],
   "source": [
    "for i, m in enumerate(match_pairs):\n",
    "    agent_opponent_dict[m[0]] = m[1]\n",
    "    agent_opponent_dict[m[1]] = m[0]\n",
    "    agent_match_dict[m[0]] = i\n",
    "    agent_match_dict[m[1]] = i"
   ]
  },
  {
   "cell_type": "code",
   "execution_count": 92,
   "metadata": {},
   "outputs": [],
   "source": [
    "# Generate initial obs for each match\n",
    "env_obs_list = [env.reset() for env in env_list]"
   ]
  },
  {
   "cell_type": "code",
   "execution_count": 93,
   "metadata": {},
   "outputs": [
    {
     "data": {
      "text/plain": [
       "[array([0.5, 0.5, 0.5, 0.5]), array([0.5, 0.5, 0.5, 0.5])]"
      ]
     },
     "execution_count": 93,
     "metadata": {},
     "output_type": "execute_result"
    }
   ],
   "source": [
    "env_obs_list"
   ]
  },
  {
   "cell_type": "code",
   "execution_count": 103,
   "metadata": {},
   "outputs": [],
   "source": [
    "ag_obs_list = [env_obs_list[agent_match_dict[ag]] for ag in range(len(agent_list))]\n",
    "ag_obs_next_list = ag_obs_list"
   ]
  },
  {
   "cell_type": "code",
   "execution_count": 107,
   "metadata": {},
   "outputs": [],
   "source": [
    "def one_turn():\n",
    "    # Get each agent's actions\n",
    "    agent_acts = [ag.act(o) for ag, o in zip(agent_list, ag_obs_list)]\n",
    "\n",
    "    # Rearrange actions to each match\n",
    "    match_acts = [\n",
    "        np.array([agent_acts[i] for i in match])\n",
    "        for match in match_pairs]\n",
    "\n",
    "    # Pass actions to each match env\n",
    "    match_output = [env.step(acts) for acts, env in zip(match_acts, env_list)]\n",
    "\n",
    "    # Update scores based on env steps\n",
    "    for agents, output, obs_next in zip(match_pairs, match_output, obs_next_list):\n",
    "        o, r, d, _ = output\n",
    "        print('----')\n",
    "        print(o)\n",
    "        print('****')\n",
    "        for ag, r_ag in zip(agents, r):\n",
    "            ag_obs_next_list[ag] = o\n",
    "            score_list[ag] += r_ag\n",
    "\n",
    "    ag_obs_list = ag_obs_next_list\n",
    "    \n",
    "    "
   ]
  },
  {
   "cell_type": "code",
   "execution_count": 112,
   "metadata": {},
   "outputs": [
    {
     "name": "stdout",
     "output_type": "stream",
     "text": [
      "[0. 0. 0. 0.]\n",
      "[1.1 0.9 0.  0. ]\n",
      "[2.2 1.8 0.  0. ]\n",
      "[3.3 2.7 0.  0. ]\n",
      "[4.4 3.6 0.  0. ]\n",
      "[5.5 4.5 0.  0. ]\n",
      "[6.6 5.4 0.  0. ]\n",
      "[7.7 6.3 0.  0. ]\n",
      "[8.8 7.2 0.  0. ]\n",
      "[9.9 8.1 0.  0. ]\n",
      "[11.  9.  0.  0.]\n"
     ]
    }
   ],
   "source": [
    "\n",
    "num_turns = 10\n",
    "print(score_list)\n",
    "for _ in range(num_turns):\n",
    "    # Get each agent's actions\n",
    "    agent_acts = [ag.act(o) for ag, o in zip(agent_list, ag_obs_list)]\n",
    "\n",
    "    # Rearrange actions to each match\n",
    "    match_acts = [\n",
    "        np.array([agent_acts[i] for i in match])\n",
    "        for match in match_pairs]\n",
    "\n",
    "    # Pass actions to each match env\n",
    "    match_output = [env.step(acts) for acts, env in zip(match_acts, env_list)]\n",
    "\n",
    "    # Update scores based on env steps\n",
    "    for agents, output, obs_next in zip(match_pairs, match_output, obs_next_list):\n",
    "        o, r, d, _ = output\n",
    "#         print('----')\n",
    "#         print(o)\n",
    "#         print('****')\n",
    "        for ag, r_ag in zip(agents, r):\n",
    "            ag_obs_next_list[ag] = o\n",
    "            score_list[ag] += r_ag\n",
    "\n",
    "    ag_obs_list = ag_obs_next_list\n",
    "    print(score_list)"
   ]
  },
  {
   "cell_type": "code",
   "execution_count": 56,
   "metadata": {},
   "outputs": [
    {
     "name": "stdout",
     "output_type": "stream",
     "text": [
      "[(0, 1), (2, 3)]\n",
      "[2.2 1.8 0.  0. ]\n"
     ]
    }
   ],
   "source": [
    "print(match_pairs)\n",
    "print(scores)"
   ]
  },
  {
   "cell_type": "code",
   "execution_count": 50,
   "metadata": {},
   "outputs": [
    {
     "data": {
      "text/plain": [
       "array([0, 0])"
      ]
     },
     "execution_count": 50,
     "metadata": {},
     "output_type": "execute_result"
    }
   ],
   "source": [
    "scores[agents[0]] += r[0]"
   ]
  },
  {
   "cell_type": "code",
   "execution_count": 48,
   "metadata": {},
   "outputs": [
    {
     "name": "stdout",
     "output_type": "stream",
     "text": [
      "(array([0.8, 0.7, 0.2, 0.1]), array([0, 0]), False, {})\n"
     ]
    }
   ],
   "source": [
    "print(output)"
   ]
  },
  {
   "cell_type": "code",
   "execution_count": 35,
   "metadata": {},
   "outputs": [
    {
     "name": "stdout",
     "output_type": "stream",
     "text": [
      "0\n",
      "(array([0.5, 0.5, 0.6, 0.5]), array([1.1, 0.9]), False, {})\n",
      "1\n",
      "(array([0.8, 0.7, 0.2, 0.1]), array([0, 0]), False, {})\n"
     ]
    }
   ],
   "source": [
    "for i, env in enumerate(env_list):\n",
    "    print(i)\n",
    "    print(env.step(match_acts[i]))\n"
   ]
  },
  {
   "cell_type": "code",
   "execution_count": 6,
   "metadata": {},
   "outputs": [
    {
     "data": {
      "text/plain": [
       "(array([0.5, 0.5, 0.7, 0.1]), array([1.2, 0.8]), False, {})"
      ]
     },
     "execution_count": 6,
     "metadata": {},
     "output_type": "execute_result"
    }
   ],
   "source": [
    "obs, env.step(act)"
   ]
  },
  {
   "cell_type": "code",
   "execution_count": 1,
   "metadata": {},
   "outputs": [],
   "source": [
    "import pandas as pd\n",
    "import plotnine as pn"
   ]
  },
  {
   "cell_type": "code",
   "execution_count": 90,
   "metadata": {},
   "outputs": [],
   "source": [
    "DATA_DIR = '/Users/kurtsmith/research/spinningup/data/tournament/dual_ultimatum'"
   ]
  },
  {
   "cell_type": "code",
   "execution_count": 194,
   "metadata": {},
   "outputs": [],
   "source": [
    "# Simple l1 dist score, different reward structures\n",
    "# per turn\n",
    "# run_num = '1598647624'\n",
    "# delayed cumul\n",
    "# run_num = '1598649108'\n",
    "\n",
    "# 1 round, 2 turns\n",
    "# run_num = '1598649273'\n",
    "# 1 round, 2 turns, std=0.5 for exploration\n",
    "# run_num = '1598649839'\n",
    "\n",
    "# 2 rounds, 1 turn, std=0.5\n",
    "run_num = '1598650120'\n",
    "\n",
    "# 1 round, 10 turns, std=0.5 for exploration\n",
    "run_num = '1598650390'\n",
    "\n",
    "q = pd.read_csv(f\"{DATA_DIR}/{run_num}/q_46.csv\")"
   ]
  },
  {
   "cell_type": "code",
   "execution_count": 195,
   "metadata": {},
   "outputs": [
    {
     "data": {
      "image/png": "[encoded data removed]",
      "text/plain": [
       "<Figure size 640x480 with 1 Axes>"
      ]
     },
     "metadata": {},
     "output_type": "display_data"
    },
    {
     "data": {
      "text/plain": [
       "<ggplot: (-9223363252219067830)>"
      ]
     },
     "execution_count": 195,
     "metadata": {},
     "output_type": "execute_result"
    }
   ],
   "source": [
    "pn.ggplot(q, pn.aes(x='offer', y='threshold', fill='q')) + pn.geom_tile()"
   ]
  },
  {
   "cell_type": "code",
   "execution_count": 196,
   "metadata": {},
   "outputs": [
    {
     "data": {
      "image/png": "[encoded data removed]",
      "text/plain": [
       "<Figure size 640x480 with 1 Axes>"
      ]
     },
     "metadata": {},
     "output_type": "display_data"
    },
    {
     "data": {
      "text/plain": [
       "<ggplot: (-9223363252438618971)>"
      ]
     },
     "execution_count": 196,
     "metadata": {},
     "output_type": "execute_result"
    }
   ],
   "source": [
    "pn.ggplot(q[q.threshold==0.55], pn.aes(x='offer', y='q')) + pn.geom_line()"
   ]
  },
  {
   "cell_type": "code",
   "execution_count": 197,
   "metadata": {},
   "outputs": [
    {
     "data": {
      "image/png": "[encoded data removed]",
      "text/plain": [
       "<Figure size 640x480 with 1 Axes>"
      ]
     },
     "metadata": {},
     "output_type": "display_data"
    },
    {
     "data": {
      "text/plain": [
       "<ggplot: (8784416101517)>"
      ]
     },
     "execution_count": 197,
     "metadata": {},
     "output_type": "execute_result"
    }
   ],
   "source": [
    "pn.ggplot(q[q.threshold==0.61], pn.aes(x='offer', y='q')) + pn.geom_line()"
   ]
  },
  {
   "cell_type": "code",
   "execution_count": 198,
   "metadata": {},
   "outputs": [
    {
     "data": {
      "image/png": "[encoded data removed]",
      "text/plain": [
       "<Figure size 640x480 with 1 Axes>"
      ]
     },
     "metadata": {},
     "output_type": "display_data"
    },
    {
     "data": {
      "text/plain": [
       "<ggplot: (8784600964854)>"
      ]
     },
     "execution_count": 198,
     "metadata": {},
     "output_type": "execute_result"
    }
   ],
   "source": [
    "pn.ggplot(q[q.threshold==0.99], pn.aes(x='offer', y='q')) + pn.geom_line()"
   ]
  }
 ],
 "metadata": {
  "kernelspec": {
   "display_name": "Python 3",
   "language": "python",
   "name": "python3"
  },
  "language_info": {
   "codemirror_mode": {
    "name": "ipython",
    "version": 3
   },
   "file_extension": ".py",
   "mimetype": "text/x-python",
   "name": "python",
   "nbconvert_exporter": "python",
   "pygments_lexer": "ipython3",
   "version": "3.6.10"
  }
 },
 "nbformat": 4,
 "nbformat_minor": 4
}
