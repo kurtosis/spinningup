{
 "cells": [
  {
   "cell_type": "code",
   "execution_count": 117,
   "metadata": {},
   "outputs": [],
   "source": [
    "import glob, os, sys\n",
    "import numpy as np\n",
    "import pandas as pd\n",
    "import plotnine as pn\n",
    "from random import sample\n",
    "DATA_DIR = '/Users/kurtsmith/research/spinningup/data'\n",
    "pd.options.display.max_columns=None"
   ]
  },
  {
   "cell_type": "code",
   "execution_count": 7,
   "metadata": {},
   "outputs": [],
   "source": [
    "from spinup.my_algos.ultimatum_agents import *\n",
    "from spinup.environments.dual_ultimatum_env import *"
   ]
  },
  {
   "cell_type": "code",
   "execution_count": 147,
   "metadata": {},
   "outputs": [],
   "source": []
  },
  {
   "cell_type": "code",
   "execution_count": 148,
   "metadata": {},
   "outputs": [],
   "source": [
    "def assign_matches(num_agents):\n",
    "    shuffled = sample(range(num_agents), k=num_agents)\n",
    "    matches = [shuffled[i:i+2] for i in range(0, num_agents, 2)]\n",
    "    return matches"
   ]
  },
  {
   "cell_type": "code",
   "execution_count": 149,
   "metadata": {},
   "outputs": [],
   "source": [
    "# Initialize agents and per-agent scores:\n",
    "agent_1 =ConstantBot(offer=0.5, threshold=1.0)\n",
    "agent_2 =ConstantBot(offer=0.6, threshold=0.)\n",
    "agent_3 =ConstantBot(offer=0.8, threshold=0.)\n",
    "agent_4 =ConstantBot(offer=0.2, threshold=0.)\n",
    "agent_list = [agent_1, agent_2, agent_3, agent_4]"
   ]
  },
  {
   "cell_type": "code",
   "execution_count": 184,
   "metadata": {},
   "outputs": [],
   "source": [
    "# Initialize agents and per-agent scores:\n",
    "agent_1 =ConstantBot(offer=0.2, threshold=0.8)\n",
    "agent_2 = StaticDistribBot(\n",
    "    mean_offer=0.5, std_offer=0.1, mean_threshold=0.5, std_threshold=0.1\n",
    ")\n",
    "agent_3 = StaticDistribBot(\n",
    "    mean_offer=0.5, std_offer=1., mean_threshold=0.5, std_threshold=1.\n",
    ")\n",
    "agent_4 = StaticDistribBot(\n",
    "    mean_offer=0.5, std_offer=2., mean_threshold=0.5, std_threshold=2.\n",
    ")\n",
    "agent_list = [agent_1, agent_2, agent_3, agent_4]"
   ]
  },
  {
   "cell_type": "code",
   "execution_count": 185,
   "metadata": {},
   "outputs": [
    {
     "name": "stdout",
     "output_type": "stream",
     "text": [
      "matches [[0, 3], [2, 1]]\n",
      "scores [0.         4.92670313 2.16138606 2.91191081]\n"
     ]
    }
   ],
   "source": [
    "num_rounds = 10\n",
    "round_length = 2\n",
    "score_list = np.zeros(len(agent_list))\n",
    "for round in range(num_rounds):\n",
    "    matches = assign_matches(4)\n",
    "    env_list = [DualUltimatum(), DualUltimatum()]\n",
    "    agent_opponent_dict = dict()\n",
    "    agent_match_dict = dict()\n",
    "    for i, m in enumerate(matches):\n",
    "        agent_opponent_dict[m[0]] = m[1]\n",
    "        agent_opponent_dict[m[1]] = m[0]\n",
    "        agent_match_dict[m[0]] = i\n",
    "        agent_match_dict[m[1]] = i\n",
    "    \n",
    "    # Generate initial obs for each match\n",
    "    env_obs_list = [env.reset() for env in env_list]\n",
    "    ag_obs_list = [env_obs_list[agent_match_dict[ag]] for ag in range(len(agent_list))]\n",
    "    ag_obs_next_list = ag_obs_list\n",
    "\n",
    "    for _ in range(round_length):\n",
    "        # Get each agent's actions\n",
    "        agent_acts = [ag.act(o) for ag, o in zip(agent_list, ag_obs_list)]\n",
    "\n",
    "        # Rearrange actions to each match\n",
    "        match_acts = [\n",
    "            np.array([agent_acts[i] for i in match])\n",
    "            for match in matches]\n",
    "\n",
    "        # Pass actions to each match env\n",
    "        env_output = [env.step(acts) for acts, env in zip(match_acts, env_list)]\n",
    "\n",
    "        # Update scores based on env steps\n",
    "        for agents, output, obs_next in zip(matches, env_output, obs_next_list):\n",
    "            o, r, d, _ = output\n",
    "            for ag, r_ag in zip(agents, r):\n",
    "                ag_obs_next_list[ag] = o\n",
    "                score_list[ag] += r_ag\n",
    "\n",
    "        ag_obs_list = ag_obs_next_list\n",
    "print(f'matches {matches}')\n",
    "print(f'scores {score_list}') "
   ]
  },
  {
   "cell_type": "code",
   "execution_count": 186,
   "metadata": {},
   "outputs": [
    {
     "name": "stdout",
     "output_type": "stream",
     "text": [
      "[2.00000000e-01 8.00000000e-01 7.18261354e-04 6.68076748e-01]\n",
      "[7.18261354e-04 6.68076748e-01 2.00000000e-01 8.00000000e-01]\n"
     ]
    }
   ],
   "source": [
    "# create obs for each agent\n",
    "print(env_output[0][0])\n",
    "print(np.roll(env_output[0][0], 2))"
   ]
  },
  {
   "cell_type": "code",
   "execution_count": 187,
   "metadata": {},
   "outputs": [
    {
     "name": "stdout",
     "output_type": "stream",
     "text": [
      "[0, 3]\n",
      "[2.00000000e-01 8.00000000e-01 7.18261354e-04 6.68076748e-01]\n",
      "===\n",
      "[2, 1]\n",
      "[0.55248612 0.62624217 0.51905748 0.40240445]\n",
      "===\n"
     ]
    }
   ],
   "source": [
    "for m, e in zip(matches, env_output):\n",
    "    print(m)\n",
    "    print(e[0])\n",
    "    print('===')\n",
    "    ag_obs_next_list[m[0]] = e[0]\n",
    "    ag_obs_next_list[m[1]] = np.roll(e[0],2)"
   ]
  },
  {
   "cell_type": "code",
   "execution_count": 188,
   "metadata": {},
   "outputs": [
    {
     "data": {
      "text/plain": [
       "[array([2.00000000e-01, 8.00000000e-01, 7.18261354e-04, 6.68076748e-01]),\n",
       " array([0.51905748, 0.40240445, 0.55248612, 0.62624217]),\n",
       " array([0.55248612, 0.62624217, 0.51905748, 0.40240445]),\n",
       " array([7.18261354e-04, 6.68076748e-01, 2.00000000e-01, 8.00000000e-01])]"
      ]
     },
     "execution_count": 188,
     "metadata": {},
     "output_type": "execute_result"
    }
   ],
   "source": [
    "ag_obs_next_list"
   ]
  },
  {
   "cell_type": "code",
   "execution_count": 88,
   "metadata": {},
   "outputs": [
    {
     "name": "stderr",
     "output_type": "stream",
     "text": [
      "/Users/kurtsmith/miniconda3/envs/spinningup/lib/python3.6/site-packages/gym/logger.py:30: UserWarning: \u001b[33mWARN: Box bound precision lowered by casting to float32\u001b[0m\n"
     ]
    }
   ],
   "source": [
    "# Initialize 1-on-1 matches\n",
    "env_list = [DualUltimatum(), DualUltimatum()]\n",
    "matches = [(0,1), (2,3)]\n",
    "agent_opponent_dict = dict()\n",
    "agent_match_dict = dict()"
   ]
  },
  {
   "cell_type": "code",
   "execution_count": 89,
   "metadata": {},
   "outputs": [],
   "source": [
    "for i, m in enumerate(matches):\n",
    "    agent_opponent_dict[m[0]] = m[1]\n",
    "    agent_opponent_dict[m[1]] = m[0]\n",
    "    agent_match_dict[m[0]] = i\n",
    "    agent_match_dict[m[1]] = i"
   ]
  },
  {
   "cell_type": "code",
   "execution_count": 92,
   "metadata": {},
   "outputs": [],
   "source": [
    "# Generate initial obs for each match\n",
    "env_obs_list = [env.reset() for env in env_list]"
   ]
  },
  {
   "cell_type": "code",
   "execution_count": 93,
   "metadata": {},
   "outputs": [
    {
     "data": {
      "text/plain": [
       "[array([0.5, 0.5, 0.5, 0.5]), array([0.5, 0.5, 0.5, 0.5])]"
      ]
     },
     "execution_count": 93,
     "metadata": {},
     "output_type": "execute_result"
    }
   ],
   "source": [
    "env_obs_list"
   ]
  },
  {
   "cell_type": "code",
   "execution_count": 103,
   "metadata": {},
   "outputs": [],
   "source": [
    "ag_obs_list = [env_obs_list[agent_match_dict[ag]] for ag in range(len(agent_list))]\n",
    "ag_obs_next_list = ag_obs_list"
   ]
  },
  {
   "cell_type": "code",
   "execution_count": 107,
   "metadata": {},
   "outputs": [],
   "source": [
    "def one_turn():\n",
    "    # Get each agent's actions\n",
    "    agent_acts = [ag.act(o) for ag, o in zip(agent_list, ag_obs_list)]\n",
    "\n",
    "    # Rearrange actions to each match\n",
    "    match_acts = [\n",
    "        np.array([agent_acts[i] for i in match])\n",
    "        for match in matches]\n",
    "\n",
    "    # Pass actions to each match env\n",
    "    env_output = [env.step(acts) for acts, env in zip(match_acts, env_list)]\n",
    "\n",
    "    # Update scores based on env steps\n",
    "    for agents, output, obs_next in zip(matches, env_output, obs_next_list):\n",
    "        o, r, d, _ = output\n",
    "        print('----')\n",
    "        print(o)\n",
    "        print('****')\n",
    "        for ag, r_ag in zip(agents, r):\n",
    "            ag_obs_next_list[ag] = o\n",
    "            score_list[ag] += r_ag\n",
    "\n",
    "    ag_obs_list = ag_obs_next_list\n",
    "    \n",
    "    "
   ]
  },
  {
   "cell_type": "code",
   "execution_count": 112,
   "metadata": {},
   "outputs": [
    {
     "name": "stdout",
     "output_type": "stream",
     "text": [
      "[0. 0. 0. 0.]\n",
      "[1.1 0.9 0.  0. ]\n",
      "[2.2 1.8 0.  0. ]\n",
      "[3.3 2.7 0.  0. ]\n",
      "[4.4 3.6 0.  0. ]\n",
      "[5.5 4.5 0.  0. ]\n",
      "[6.6 5.4 0.  0. ]\n",
      "[7.7 6.3 0.  0. ]\n",
      "[8.8 7.2 0.  0. ]\n",
      "[9.9 8.1 0.  0. ]\n",
      "[11.  9.  0.  0.]\n"
     ]
    }
   ],
   "source": [
    "\n",
    "num_turns = 10\n",
    "print(score_list)\n",
    "for _ in range(num_turns):\n",
    "    # Get each agent's actions\n",
    "    agent_acts = [ag.act(o) for ag, o in zip(agent_list, ag_obs_list)]\n",
    "\n",
    "    # Rearrange actions to each match\n",
    "    match_acts = [\n",
    "        np.array([agent_acts[i] for i in match])\n",
    "        for match in matches]\n",
    "\n",
    "    # Pass actions to each match env\n",
    "    env_output = [env.step(acts) for acts, env in zip(match_acts, env_list)]\n",
    "\n",
    "    # Update scores based on env steps\n",
    "    for agents, output, obs_next in zip(matches, env_output, obs_next_list):\n",
    "        o, r, d, _ = output\n",
    "#         print('----')\n",
    "#         print(o)\n",
    "#         print('****')\n",
    "        for ag, r_ag in zip(agents, r):\n",
    "            ag_obs_next_list[ag] = o\n",
    "            score_list[ag] += r_ag\n",
    "\n",
    "    ag_obs_list = ag_obs_next_list\n",
    "    print(score_list)"
   ]
  },
  {
   "cell_type": "code",
   "execution_count": 56,
   "metadata": {},
   "outputs": [
    {
     "name": "stdout",
     "output_type": "stream",
     "text": [
      "[(0, 1), (2, 3)]\n",
      "[2.2 1.8 0.  0. ]\n"
     ]
    }
   ],
   "source": [
    "print(matches)\n",
    "print(scores)"
   ]
  },
  {
   "cell_type": "code",
   "execution_count": 50,
   "metadata": {},
   "outputs": [
    {
     "data": {
      "text/plain": [
       "array([0, 0])"
      ]
     },
     "execution_count": 50,
     "metadata": {},
     "output_type": "execute_result"
    }
   ],
   "source": [
    "scores[agents[0]] += r[0]"
   ]
  },
  {
   "cell_type": "code",
   "execution_count": 48,
   "metadata": {},
   "outputs": [
    {
     "name": "stdout",
     "output_type": "stream",
     "text": [
      "(array([0.8, 0.7, 0.2, 0.1]), array([0, 0]), False, {})\n"
     ]
    }
   ],
   "source": [
    "print(output)"
   ]
  },
  {
   "cell_type": "code",
   "execution_count": 35,
   "metadata": {},
   "outputs": [
    {
     "name": "stdout",
     "output_type": "stream",
     "text": [
      "0\n",
      "(array([0.5, 0.5, 0.6, 0.5]), array([1.1, 0.9]), False, {})\n",
      "1\n",
      "(array([0.8, 0.7, 0.2, 0.1]), array([0, 0]), False, {})\n"
     ]
    }
   ],
   "source": [
    "for i, env in enumerate(env_list):\n",
    "    print(i)\n",
    "    print(env.step(match_acts[i]))\n"
   ]
  },
  {
   "cell_type": "code",
   "execution_count": 6,
   "metadata": {},
   "outputs": [
    {
     "data": {
      "text/plain": [
       "(array([0.5, 0.5, 0.7, 0.1]), array([1.2, 0.8]), False, {})"
      ]
     },
     "execution_count": 6,
     "metadata": {},
     "output_type": "execute_result"
    }
   ],
   "source": [
    "obs, env.step(act)"
   ]
  }
 ],
 "metadata": {
  "kernelspec": {
   "display_name": "Python 3",
   "language": "python",
   "name": "python3"
  },
  "language_info": {
   "codemirror_mode": {
    "name": "ipython",
    "version": 3
   },
   "file_extension": ".py",
   "mimetype": "text/x-python",
   "name": "python",
   "nbconvert_exporter": "python",
   "pygments_lexer": "ipython3",
   "version": "3.6.10"
  }
 },
 "nbformat": 4,
 "nbformat_minor": 4
}
