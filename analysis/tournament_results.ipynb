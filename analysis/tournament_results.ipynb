{
 "cells": [
  {
   "cell_type": "code",
   "execution_count": null,
   "metadata": {},
   "outputs": [],
   "source": [
    "import glob, os, sys\n",
    "import pandas as pd\n",
    "import plotnine as pn\n",
    "DATA_DIR = '/Users/kurtsmith/research/spinningup/data/tournament/dual_ultimatum'\n",
    "pd.options.display.max_columns=None"
   ]
  },
  {
   "cell_type": "code",
   "execution_count": null,
   "metadata": {},
   "outputs": [],
   "source": [
    "progress0 = pd.read_table(f'{DATA_DIR}/1598166899/progress.txt')\n",
    "\n",
    "t1 = pd.read_table(f'{DATA_DIR}/1598170067/progress.txt')\n",
    "t2 = pd.read_table(f'{DATA_DIR}/1598171487/progress.txt')\n",
    "t3 = pd.read_table(f'{DATA_DIR}/1598172355/progress.txt')\n",
    "\n",
    "b1 = pd.read_table(f'{DATA_DIR}/1598168251/progress.txt')\n",
    "b2 = pd.read_table(f'{DATA_DIR}/1598170483/progress.txt')\n",
    "b3 = pd.read_table(f'{DATA_DIR}/1598171878/progress.txt')\n",
    "b4 = pd.read_table(f'{DATA_DIR}/1598172743/progress.txt')"
   ]
  },
  {
   "cell_type": "code",
   "execution_count": null,
   "metadata": {},
   "outputs": [],
   "source": [
    "b1"
   ]
  },
  {
   "cell_type": "code",
   "execution_count": null,
   "metadata": {},
   "outputs": [],
   "source": [
    "display(pn.ggplot(t1, pn.aes(x='Epoch', y='StdTestEpScore0')) + pn.geom_line() + pn.geom_point())\n",
    "display(pn.ggplot(t2, pn.aes(x='Epoch', y='StdTestEpScore0')) + pn.geom_line() + pn.geom_point())\n",
    "display(pn.ggplot(t3, pn.aes(x='Epoch', y='StdTestEpScore0')) + pn.geom_line() + pn.geom_point())\n",
    "print('---------------------')\n",
    "display(pn.ggplot(b1, pn.aes(x='Epoch', y='StdTestEpScore0')) + pn.geom_line() + pn.geom_point())\n",
    "display(pn.ggplot(b2, pn.aes(x='Epoch', y='StdTestEpScore0')) + pn.geom_line() + pn.geom_point())\n",
    "display(pn.ggplot(b3, pn.aes(x='Epoch', y='StdTestEpScore0')) + pn.geom_line() + pn.geom_point())\n",
    "display(pn.ggplot(b4, pn.aes(x='Epoch', y='StdTestEpScore0')) + pn.geom_line() + pn.geom_point())"
   ]
  },
  {
   "cell_type": "code",
   "execution_count": null,
   "metadata": {},
   "outputs": [],
   "source": [
    "display(pn.ggplot(t1, pn.aes(x='Epoch', y='StdTestEpScore1')) + pn.geom_line() + pn.geom_point())\n",
    "display(pn.ggplot(t2, pn.aes(x='Epoch', y='StdTestEpScore1')) + pn.geom_line() + pn.geom_point())\n",
    "display(pn.ggplot(t3, pn.aes(x='Epoch', y='StdTestEpScore1')) + pn.geom_line() + pn.geom_point())\n",
    "print('---------------------')\n",
    "display(pn.ggplot(b1, pn.aes(x='Epoch', y='StdTestEpScore1')) + pn.geom_line() + pn.geom_point())\n",
    "display(pn.ggplot(b2, pn.aes(x='Epoch', y='StdTestEpScore1')) + pn.geom_line() + pn.geom_point())\n",
    "display(pn.ggplot(b3, pn.aes(x='Epoch', y='StdTestEpScore1')) + pn.geom_line() + pn.geom_point())\n",
    "display(pn.ggplot(b4, pn.aes(x='Epoch', y='StdTestEpScore1')) + pn.geom_line() + pn.geom_point())"
   ]
  },
  {
   "cell_type": "code",
   "execution_count": null,
   "metadata": {},
   "outputs": [],
   "source": [
    "import numpy as np\n",
    "ff = np.array([[10, 5, -5], [0, 0, 5], [20, -5, 0]])"
   ]
  },
  {
   "cell_type": "code",
   "execution_count": null,
   "metadata": {},
   "outputs": [],
   "source": [
    "ff[0][1]"
   ]
  },
  {
   "cell_type": "code",
   "execution_count": null,
   "metadata": {},
   "outputs": [],
   "source": []
  },
  {
   "cell_type": "code",
   "execution_count": null,
   "metadata": {},
   "outputs": [],
   "source": [
    "display(pn.ggplot(t1, pn.aes(x='Epoch', y='MinTestEpScore0')) + pn.geom_line() + pn.geom_point())\n",
    "display(pn.ggplot(t2, pn.aes(x='Epoch', y='MinTestEpScore0')) + pn.geom_line() + pn.geom_point())\n",
    "display(pn.ggplot(t3, pn.aes(x='Epoch', y='MinTestEpScore0')) + pn.geom_line() + pn.geom_point())\n",
    "print('---------------------')\n",
    "display(pn.ggplot(b1, pn.aes(x='Epoch', y='MinTestEpScore0')) + pn.geom_line() + pn.geom_point())\n",
    "display(pn.ggplot(b2, pn.aes(x='Epoch', y='MinTestEpScore0')) + pn.geom_line() + pn.geom_point())\n",
    "display(pn.ggplot(b3, pn.aes(x='Epoch', y='MinTestEpScore0')) + pn.geom_line() + pn.geom_point())\n",
    "display(pn.ggplot(b4, pn.aes(x='Epoch', y='MinTestEpScore0')) + pn.geom_line() + pn.geom_point())"
   ]
  },
  {
   "cell_type": "code",
   "execution_count": null,
   "metadata": {},
   "outputs": [],
   "source": [
    "display(pn.ggplot(progress1, pn.aes(x='Epoch', y='MinTestEpScore0')) + pn.geom_line() + pn.geom_point())\n",
    "display(pn.ggplot(progress3, pn.aes(x='Epoch', y='MinTestEpScore0')) + pn.geom_line() + pn.geom_point())\n",
    "display(pn.ggplot(progress2, pn.aes(x='Epoch', y='MinTestEpScore0')) + pn.geom_line() + pn.geom_point())\n",
    "display(pn.ggplot(progress4, pn.aes(x='Epoch', y='MinTestEpScore0')) + pn.geom_line() + pn.geom_point())"
   ]
  },
  {
   "cell_type": "code",
   "execution_count": null,
   "metadata": {},
   "outputs": [],
   "source": [
    "pn.ggplot(progress, pn.aes(x='Epoch', y='AverageOfferFirstRound')) + pn.geom_point()"
   ]
  },
  {
   "cell_type": "code",
   "execution_count": null,
   "metadata": {},
   "outputs": [],
   "source": [
    "pn.ggplot(progress, pn.aes(x='Epoch', y='AverageThresholdFirstRound')) + pn.geom_point()"
   ]
  },
  {
   "cell_type": "code",
   "execution_count": null,
   "metadata": {},
   "outputs": [],
   "source": [
    "pn.ggplot(progress, pn.aes(x='Epoch', y='AverageOfferLastRound')) + pn.geom_point()"
   ]
  },
  {
   "cell_type": "code",
   "execution_count": null,
   "metadata": {},
   "outputs": [],
   "source": [
    "pn.ggplot(progress, pn.aes(x='Epoch', y='AverageThresholdLastRound')) + pn.geom_point()"
   ]
  },
  {
   "cell_type": "code",
   "execution_count": null,
   "metadata": {},
   "outputs": [],
   "source": [
    "rewards = [\n",
    "    [1,2],\n",
    "    [0,1],\n",
    "    [1,-1]\n",
    "]"
   ]
  },
  {
   "cell_type": "code",
   "execution_count": null,
   "metadata": {},
   "outputs": [],
   "source": [
    "list(map(np.asarray, zip(*rewards)))"
   ]
  },
  {
   "cell_type": "code",
   "execution_count": null,
   "metadata": {},
   "outputs": [],
   "source": [
    "np.random.randn(1)"
   ]
  }
 ],
 "metadata": {
  "kernelspec": {
   "display_name": "Python 3",
   "language": "python",
   "name": "python3"
  },
  "language_info": {
   "codemirror_mode": {
    "name": "ipython",
    "version": 3
   },
   "file_extension": ".py",
   "mimetype": "text/x-python",
   "name": "python",
   "nbconvert_exporter": "python",
   "pygments_lexer": "ipython3",
   "version": "3.6.10"
  }
 },
 "nbformat": 4,
 "nbformat_minor": 4
}
